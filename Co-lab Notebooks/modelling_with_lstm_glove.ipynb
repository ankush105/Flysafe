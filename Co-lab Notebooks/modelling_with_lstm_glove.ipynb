{
  "nbformat": 4,
  "nbformat_minor": 0,
  "metadata": {
    "colab": {
      "provenance": []
    },
    "kernelspec": {
      "name": "python3",
      "display_name": "Python 3"
    },
    "language_info": {
      "name": "python"
    },
    "accelerator": "GPU",
    "gpuClass": "standard"
  },
  "cells": [
    {
      "cell_type": "code",
      "source": [
        "# Importing libraries\n",
        "import numpy as np\n",
        "import pandas as pd\n",
        "import seaborn as sns\n",
        "import matplotlib.pyplot as plt\n",
        "import tensorflow as tf"
      ],
      "metadata": {
        "id": "Ddg55LkQX_oD"
      },
      "execution_count": null,
      "outputs": []
    },
    {
      "cell_type": "code",
      "source": [
        "# accessing data from google drive\n",
        "from google.colab import drive\n",
        "drive.mount('/content/drive')"
      ],
      "metadata": {
        "colab": {
          "base_uri": "https://localhost:8080/"
        },
        "id": "o1LVtW2yBUE5",
        "outputId": "30dac6fe-7d2f-41a3-8a1b-6b7b9cdbbe70"
      },
      "execution_count": null,
      "outputs": [
        {
          "output_type": "stream",
          "name": "stdout",
          "text": [
            "Mounted at /content/drive\n"
          ]
        }
      ]
    },
    {
      "cell_type": "code",
      "execution_count": null,
      "metadata": {
        "colab": {
          "base_uri": "https://localhost:8080/",
          "height": 206
        },
        "id": "XWKDXxCJX9Ow",
        "outputId": "27011442-1a6f-4ed9-b9b5-d50f767ff002"
      },
      "outputs": [
        {
          "output_type": "execute_result",
          "data": {
            "text/plain": [
              "                                             comment  label  \\\n",
              "0  Mohammad harun  he is an awesome guy very info...      1   \n",
              "1  amazing guy gaurav was  so patience and kind  ...      1   \n",
              "2  Gaurav was very knowledgeable and very helpful...      1   \n",
              "3  I called them regarding my flight cancellation...      1   \n",
              "4  VERY GOOD SERVICE BY GAURAV LOHAT SERVED AS SO...      1   \n",
              "\n",
              "                                      processed_text  comment_len  \\\n",
              "0  mohammad harun awesome guy informative helpful...           44   \n",
              "1  amazing guy gaurav patience kind helped start ...           55   \n",
              "2  gaurav knowledgeable helpful knows situation a...           36   \n",
              "3  i called regarding flight cancellation narrate...           34   \n",
              "4  very good service by gaurav lohat served as so...           23   \n",
              "\n",
              "   processed_text_len  \n",
              "0                22.0  \n",
              "1                27.0  \n",
              "2                17.0  \n",
              "3                19.0  \n",
              "4                23.0  "
            ],
            "text/html": [
              "\n",
              "  <div id=\"df-4e3f309f-5893-4bac-bd8c-946ad7a247c2\">\n",
              "    <div class=\"colab-df-container\">\n",
              "      <div>\n",
              "<style scoped>\n",
              "    .dataframe tbody tr th:only-of-type {\n",
              "        vertical-align: middle;\n",
              "    }\n",
              "\n",
              "    .dataframe tbody tr th {\n",
              "        vertical-align: top;\n",
              "    }\n",
              "\n",
              "    .dataframe thead th {\n",
              "        text-align: right;\n",
              "    }\n",
              "</style>\n",
              "<table border=\"1\" class=\"dataframe\">\n",
              "  <thead>\n",
              "    <tr style=\"text-align: right;\">\n",
              "      <th></th>\n",
              "      <th>comment</th>\n",
              "      <th>label</th>\n",
              "      <th>processed_text</th>\n",
              "      <th>comment_len</th>\n",
              "      <th>processed_text_len</th>\n",
              "    </tr>\n",
              "  </thead>\n",
              "  <tbody>\n",
              "    <tr>\n",
              "      <th>0</th>\n",
              "      <td>Mohammad harun  he is an awesome guy very info...</td>\n",
              "      <td>1</td>\n",
              "      <td>mohammad harun awesome guy informative helpful...</td>\n",
              "      <td>44</td>\n",
              "      <td>22.0</td>\n",
              "    </tr>\n",
              "    <tr>\n",
              "      <th>1</th>\n",
              "      <td>amazing guy gaurav was  so patience and kind  ...</td>\n",
              "      <td>1</td>\n",
              "      <td>amazing guy gaurav patience kind helped start ...</td>\n",
              "      <td>55</td>\n",
              "      <td>27.0</td>\n",
              "    </tr>\n",
              "    <tr>\n",
              "      <th>2</th>\n",
              "      <td>Gaurav was very knowledgeable and very helpful...</td>\n",
              "      <td>1</td>\n",
              "      <td>gaurav knowledgeable helpful knows situation a...</td>\n",
              "      <td>36</td>\n",
              "      <td>17.0</td>\n",
              "    </tr>\n",
              "    <tr>\n",
              "      <th>3</th>\n",
              "      <td>I called them regarding my flight cancellation...</td>\n",
              "      <td>1</td>\n",
              "      <td>i called regarding flight cancellation narrate...</td>\n",
              "      <td>34</td>\n",
              "      <td>19.0</td>\n",
              "    </tr>\n",
              "    <tr>\n",
              "      <th>4</th>\n",
              "      <td>VERY GOOD SERVICE BY GAURAV LOHAT SERVED AS SO...</td>\n",
              "      <td>1</td>\n",
              "      <td>very good service by gaurav lohat served as so...</td>\n",
              "      <td>23</td>\n",
              "      <td>23.0</td>\n",
              "    </tr>\n",
              "  </tbody>\n",
              "</table>\n",
              "</div>\n",
              "      <button class=\"colab-df-convert\" onclick=\"convertToInteractive('df-4e3f309f-5893-4bac-bd8c-946ad7a247c2')\"\n",
              "              title=\"Convert this dataframe to an interactive table.\"\n",
              "              style=\"display:none;\">\n",
              "        \n",
              "  <svg xmlns=\"http://www.w3.org/2000/svg\" height=\"24px\"viewBox=\"0 0 24 24\"\n",
              "       width=\"24px\">\n",
              "    <path d=\"M0 0h24v24H0V0z\" fill=\"none\"/>\n",
              "    <path d=\"M18.56 5.44l.94 2.06.94-2.06 2.06-.94-2.06-.94-.94-2.06-.94 2.06-2.06.94zm-11 1L8.5 8.5l.94-2.06 2.06-.94-2.06-.94L8.5 2.5l-.94 2.06-2.06.94zm10 10l.94 2.06.94-2.06 2.06-.94-2.06-.94-.94-2.06-.94 2.06-2.06.94z\"/><path d=\"M17.41 7.96l-1.37-1.37c-.4-.4-.92-.59-1.43-.59-.52 0-1.04.2-1.43.59L10.3 9.45l-7.72 7.72c-.78.78-.78 2.05 0 2.83L4 21.41c.39.39.9.59 1.41.59.51 0 1.02-.2 1.41-.59l7.78-7.78 2.81-2.81c.8-.78.8-2.07 0-2.86zM5.41 20L4 18.59l7.72-7.72 1.47 1.35L5.41 20z\"/>\n",
              "  </svg>\n",
              "      </button>\n",
              "      \n",
              "  <style>\n",
              "    .colab-df-container {\n",
              "      display:flex;\n",
              "      flex-wrap:wrap;\n",
              "      gap: 12px;\n",
              "    }\n",
              "\n",
              "    .colab-df-convert {\n",
              "      background-color: #E8F0FE;\n",
              "      border: none;\n",
              "      border-radius: 50%;\n",
              "      cursor: pointer;\n",
              "      display: none;\n",
              "      fill: #1967D2;\n",
              "      height: 32px;\n",
              "      padding: 0 0 0 0;\n",
              "      width: 32px;\n",
              "    }\n",
              "\n",
              "    .colab-df-convert:hover {\n",
              "      background-color: #E2EBFA;\n",
              "      box-shadow: 0px 1px 2px rgba(60, 64, 67, 0.3), 0px 1px 3px 1px rgba(60, 64, 67, 0.15);\n",
              "      fill: #174EA6;\n",
              "    }\n",
              "\n",
              "    [theme=dark] .colab-df-convert {\n",
              "      background-color: #3B4455;\n",
              "      fill: #D2E3FC;\n",
              "    }\n",
              "\n",
              "    [theme=dark] .colab-df-convert:hover {\n",
              "      background-color: #434B5C;\n",
              "      box-shadow: 0px 1px 3px 1px rgba(0, 0, 0, 0.15);\n",
              "      filter: drop-shadow(0px 1px 2px rgba(0, 0, 0, 0.3));\n",
              "      fill: #FFFFFF;\n",
              "    }\n",
              "  </style>\n",
              "\n",
              "      <script>\n",
              "        const buttonEl =\n",
              "          document.querySelector('#df-4e3f309f-5893-4bac-bd8c-946ad7a247c2 button.colab-df-convert');\n",
              "        buttonEl.style.display =\n",
              "          google.colab.kernel.accessAllowed ? 'block' : 'none';\n",
              "\n",
              "        async function convertToInteractive(key) {\n",
              "          const element = document.querySelector('#df-4e3f309f-5893-4bac-bd8c-946ad7a247c2');\n",
              "          const dataTable =\n",
              "            await google.colab.kernel.invokeFunction('convertToInteractive',\n",
              "                                                     [key], {});\n",
              "          if (!dataTable) return;\n",
              "\n",
              "          const docLinkHtml = 'Like what you see? Visit the ' +\n",
              "            '<a target=\"_blank\" href=https://colab.research.google.com/notebooks/data_table.ipynb>data table notebook</a>'\n",
              "            + ' to learn more about interactive tables.';\n",
              "          element.innerHTML = '';\n",
              "          dataTable['output_type'] = 'display_data';\n",
              "          await google.colab.output.renderOutput(dataTable, element);\n",
              "          const docLink = document.createElement('div');\n",
              "          docLink.innerHTML = docLinkHtml;\n",
              "          element.appendChild(docLink);\n",
              "        }\n",
              "      </script>\n",
              "    </div>\n",
              "  </div>\n",
              "  "
            ]
          },
          "metadata": {},
          "execution_count": 3
        }
      ],
      "source": [
        "# Loading the dataset\n",
        "data = pd.read_csv('/content/drive/MyDrive/AIP Team 5/new_data.csv')\n",
        "\n",
        "# first 5 samples from dataset\n",
        "data.head()"
      ]
    },
    {
      "cell_type": "code",
      "source": [
        "# converting comments into lowercase\n",
        "data['processed_text'] = data['processed_text'].str.lower()"
      ],
      "metadata": {
        "id": "oIAoI-RpD75e"
      },
      "execution_count": null,
      "outputs": []
    },
    {
      "cell_type": "code",
      "source": [
        "# data['label'] = data['label'].apply(lambda x: 1 if x=='Postive' else 0)"
      ],
      "metadata": {
        "id": "49nQc-dEaWDq"
      },
      "execution_count": null,
      "outputs": []
    },
    {
      "cell_type": "code",
      "source": [
        "# spliting 30000 positive random samples\n",
        "df_train_pos = data[data['label']==1].sample(30000, random_state=13)\n",
        "df_test_pos = data[data['label']==1].drop(df_train_pos.index)\n",
        "\n",
        "# spliting 20000 negative random samples\n",
        "df_train_neg = data[data['label']==0].sample(20000, random_state=13)\n",
        "df_test_neg = data[data['label']==0].drop(df_train_neg.index)\n",
        "\n",
        "# joining negative and positive samples for train and test\n",
        "df_train = pd.concat([df_train_pos,df_train_neg])\n",
        "df_test = pd.concat([df_test_pos,df_test_neg])\n"
      ],
      "metadata": {
        "id": "HW2eeZbDvqvK"
      },
      "execution_count": null,
      "outputs": []
    },
    {
      "cell_type": "code",
      "source": [
        "# # 5k ssample dataset for trials\n",
        "# df_5k = df_train.sample(5000,random_state=13)\n",
        "# X_train = df_5k['processed_text']\n",
        "# y_train = df_5k['label']\n",
        "\n",
        "# df_2k = df_train.sample(2000,random_state=13)\n",
        "# X_test = df_2k['processed_text']\n",
        "# y_test = df_2k['label']\n"
      ],
      "metadata": {
        "id": "19SG6BiTvxrs"
      },
      "execution_count": null,
      "outputs": []
    },
    {
      "cell_type": "code",
      "source": [
        "# creating X and y for train and test\n",
        "X_train = df_train['processed_text']\n",
        "y_train = df_train['label']\n",
        "\n",
        "X_test = df_test['processed_text']\n",
        "y_test = df_test['label']\n"
      ],
      "metadata": {
        "id": "JilUyoLNfUWt"
      },
      "execution_count": null,
      "outputs": []
    },
    {
      "cell_type": "code",
      "source": [
        "# number of samples in train and test for each class\n",
        "y_test.value_counts(),y_train.value_counts()"
      ],
      "metadata": {
        "id": "jFS3G6_Gak3o",
        "colab": {
          "base_uri": "https://localhost:8080/"
        },
        "outputId": "ef47beeb-23a9-47d4-bf0d-548749779ee8"
      },
      "execution_count": null,
      "outputs": [
        {
          "output_type": "execute_result",
          "data": {
            "text/plain": [
              "(1    245522\n",
              " 0      8459\n",
              " Name: label, dtype: int64,\n",
              " 1    30000\n",
              " 0    20000\n",
              " Name: label, dtype: int64)"
            ]
          },
          "metadata": {},
          "execution_count": 9
        }
      ]
    },
    {
      "cell_type": "code",
      "source": [
        "# creating words dictionary \n",
        "from sklearn.feature_extraction.text import CountVectorizer\n",
        "\n",
        "vectorizer = CountVectorizer()\n",
        "dic = vectorizer.fit_transform(X_train)\n",
        "\n",
        "num_words = len(vectorizer.vocabulary_)\n",
        "num_words"
      ],
      "metadata": {
        "id": "XAuQIi8TGMJc",
        "colab": {
          "base_uri": "https://localhost:8080/"
        },
        "outputId": "ec070d04-2f13-4143-ff29-0f7d480fc6d7"
      },
      "execution_count": null,
      "outputs": [
        {
          "output_type": "execute_result",
          "data": {
            "text/plain": [
              "28005"
            ]
          },
          "metadata": {},
          "execution_count": 10
        }
      ]
    },
    {
      "cell_type": "code",
      "source": [
        "# Making the embedding layer using pre-trained weights, taken from Glove\n",
        "embedding_dict = {}\n",
        "\n",
        "glove_file_path = r\"/content/drive/MyDrive/Sem 3/Deep Learning/glove.6B.100d.txt\"\n",
        "with open(glove_file_path,'r') as f:\n",
        "    for line in f:\n",
        "\n",
        "        # Every lines contains word and then its embedding\n",
        "        # spliting the line\n",
        "        values = line.split()\n",
        "\n",
        "        # first token will be the word\n",
        "        word = values[0]\n",
        "\n",
        "        # rest of the tokens are the embedding values of that word\n",
        "        vectors = np.asarray(values[1:],'float32')\n",
        "        embedding_dict[word] = vectors\n",
        "        \n",
        "f.close()"
      ],
      "metadata": {
        "id": "2arMS-wFkgIh"
      },
      "execution_count": null,
      "outputs": []
    },
    {
      "cell_type": "code",
      "source": [
        "# from keras.preprocessing.text import Tokenizer\n",
        "from tensorflow.keras.preprocessing.text import Tokenizer\n",
        "from tensorflow.keras.preprocessing.sequence import pad_sequences\n",
        "num_words = len(vectorizer.vocabulary_)\n",
        "\n",
        "tokenizer = Tokenizer(num_words=num_words)\n",
        "\n",
        "# encoding the words to numbers\n",
        "tokenizer.fit_on_texts(X_train)\n",
        "X_train_encoding = tokenizer.texts_to_sequences(X_train)\n",
        "X_test_encoding = tokenizer.texts_to_sequences(X_test)\n",
        "\n",
        "max_review_length = 70\n",
        "\n",
        "# using padding to make every review of equal size\n",
        "X_train = pad_sequences(X_train_encoding, maxlen=max_review_length,padding='post')\n",
        "X_test = pad_sequences(X_test_encoding, maxlen=max_review_length,padding='post')\n",
        "\n",
        "words_to_index = tokenizer.word_index"
      ],
      "metadata": {
        "id": "f-qSnkd7J22g"
      },
      "execution_count": null,
      "outputs": []
    },
    {
      "cell_type": "code",
      "source": [
        "X_train[0]"
      ],
      "metadata": {
        "colab": {
          "base_uri": "https://localhost:8080/"
        },
        "id": "zfUeo3oEX9JS",
        "outputId": "9d9d128f-9f21-464c-a98b-cd7095e40801"
      },
      "execution_count": null,
      "outputs": [
        {
          "output_type": "execute_result",
          "data": {
            "text/plain": [
              "array([    1,   223,   324,     1,    90,    37,   179,     1,  1190,\n",
              "          19,    15,  1405,   195,   242,    15,     1,    34,   162,\n",
              "         383,    26,    12,   801,  1243,    15,   565,     1,  1021,\n",
              "         181,    37,  1978,   381,    15,   153,   363, 10203,  1835,\n",
              "         837,  2104,  1109,   186,   113,   901,   420,     1,   197,\n",
              "         252,    84,  1557,   160,   108,   817,   242,     1,  5832,\n",
              "           6,   537,   139,   233,   578,     0,     0,     0,     0,\n",
              "           0,     0,     0,     0,     0,     0,     0], dtype=int32)"
            ]
          },
          "metadata": {},
          "execution_count": 13
        }
      ]
    },
    {
      "cell_type": "code",
      "source": [
        "# length of our vocab\n",
        "vocab_len = len(words_to_index)+1\n",
        "\n",
        "# defining the numpy matrix to store the encodings\n",
        "emb_matrix = np.zeros((vocab_len, 100))\n",
        "\n",
        "not_list = []\n",
        "for word, index in words_to_index.items():\n",
        "  embedding_vector = embedding_dict.get(word)\n",
        "\n",
        "  # if word is in the embedding dictionary else discard it\n",
        "  if embedding_vector is not None:\n",
        "    emb_matrix[index, :] = embedding_vector\n",
        "  else:\n",
        "    not_list.append(index)\n",
        "\n",
        "embedding_layer = tf.keras.layers.Embedding(input_dim=vocab_len, output_dim=100, input_length=max_review_length, weights = [emb_matrix], trainable=True)"
      ],
      "metadata": {
        "id": "bxgkqS_jobbV"
      },
      "execution_count": null,
      "outputs": []
    },
    {
      "cell_type": "code",
      "source": [
        "import tensorflow as tf\n",
        "\n",
        "# Parameters\n",
        "embedding_dim = 16\n",
        "lstm_dim = 32\n",
        "dense_dim = 24\n",
        "\n",
        "# Build the model\n",
        "model = tf.keras.Sequential([\n",
        "    embedding_layer,\n",
        "    tf.keras.layers.Bidirectional(tf.keras.layers.LSTM(lstm_dim,return_sequences=True,dropout=0.2)),\n",
        "    tf.keras.layers.Bidirectional(tf.keras.layers.LSTM(lstm_dim,return_sequences=True,dropout=0.2)),\n",
        "    tf.keras.layers.LSTM(lstm_dim,dropout=0.2),\n",
        "    tf.keras.layers.Dense(dense_dim, activation='relu'),\n",
        "    tf.keras.layers.Dropout(0.2),\n",
        "    tf.keras.layers.Dense(dense_dim, activation='relu'),\n",
        "    tf.keras.layers.Dense(1, activation='sigmoid')\n",
        "])\n",
        "\n",
        "# Set the training parameters\n",
        "model.compile(loss='binary_crossentropy',optimizer='adam',metrics=['accuracy'])\n",
        "\n",
        "# Print the model summary\n",
        "model.summary()"
      ],
      "metadata": {
        "colab": {
          "base_uri": "https://localhost:8080/"
        },
        "id": "f-hYgaxmRRPo",
        "outputId": "933a7518-9f68-4fa9-a3be-9d729be5a307"
      },
      "execution_count": null,
      "outputs": [
        {
          "output_type": "stream",
          "name": "stdout",
          "text": [
            "Model: \"sequential\"\n",
            "_________________________________________________________________\n",
            " Layer (type)                Output Shape              Param #   \n",
            "=================================================================\n",
            " embedding (Embedding)       (None, 70, 100)           2804200   \n",
            "                                                                 \n",
            " bidirectional (Bidirectiona  (None, 70, 64)           34048     \n",
            " l)                                                              \n",
            "                                                                 \n",
            " bidirectional_1 (Bidirectio  (None, 70, 64)           24832     \n",
            " nal)                                                            \n",
            "                                                                 \n",
            " lstm_2 (LSTM)               (None, 32)                12416     \n",
            "                                                                 \n",
            " dense (Dense)               (None, 24)                792       \n",
            "                                                                 \n",
            " dropout (Dropout)           (None, 24)                0         \n",
            "                                                                 \n",
            " dense_1 (Dense)             (None, 24)                600       \n",
            "                                                                 \n",
            " dense_2 (Dense)             (None, 1)                 25        \n",
            "                                                                 \n",
            "=================================================================\n",
            "Total params: 2,876,913\n",
            "Trainable params: 2,876,913\n",
            "Non-trainable params: 0\n",
            "_________________________________________________________________\n"
          ]
        }
      ]
    },
    {
      "cell_type": "code",
      "source": [
        "NUM_EPOCHS = 20\n",
        "\n",
        "# Train the model\n",
        "history_lstm = model.fit(X_train,y_train, epochs=NUM_EPOCHS)"
      ],
      "metadata": {
        "id": "RL0jJZb2STlC",
        "colab": {
          "base_uri": "https://localhost:8080/"
        },
        "outputId": "c9a9b24f-1e9a-4b6b-d177-b4696998d868"
      },
      "execution_count": null,
      "outputs": [
        {
          "output_type": "stream",
          "name": "stdout",
          "text": [
            "Epoch 1/20\n",
            "1563/1563 [==============================] - 111s 61ms/step - loss: 0.3799 - accuracy: 0.8504\n",
            "Epoch 2/20\n",
            "1563/1563 [==============================] - 41s 26ms/step - loss: 0.3096 - accuracy: 0.8839\n",
            "Epoch 3/20\n",
            "1563/1563 [==============================] - 34s 22ms/step - loss: 0.2827 - accuracy: 0.8952\n",
            "Epoch 4/20\n",
            "1563/1563 [==============================] - 35s 22ms/step - loss: 0.2639 - accuracy: 0.9020\n",
            "Epoch 5/20\n",
            "1563/1563 [==============================] - 35s 22ms/step - loss: 0.2375 - accuracy: 0.9107\n",
            "Epoch 6/20\n",
            "1563/1563 [==============================] - 33s 21ms/step - loss: 0.2195 - accuracy: 0.9191\n",
            "Epoch 7/20\n",
            "1563/1563 [==============================] - 34s 22ms/step - loss: 0.2036 - accuracy: 0.9256\n",
            "Epoch 8/20\n",
            "1563/1563 [==============================] - 32s 20ms/step - loss: 0.1882 - accuracy: 0.9303\n",
            "Epoch 9/20\n",
            "1563/1563 [==============================] - 31s 20ms/step - loss: 0.1789 - accuracy: 0.9330\n",
            "Epoch 10/20\n",
            "1563/1563 [==============================] - 32s 21ms/step - loss: 0.1623 - accuracy: 0.9400\n",
            "Epoch 11/20\n",
            "1563/1563 [==============================] - 33s 21ms/step - loss: 0.1508 - accuracy: 0.9442\n",
            "Epoch 12/20\n",
            "1563/1563 [==============================] - 45s 29ms/step - loss: 0.1409 - accuracy: 0.9463\n",
            "Epoch 13/20\n",
            "1563/1563 [==============================] - 33s 21ms/step - loss: 0.1308 - accuracy: 0.9509\n",
            "Epoch 14/20\n",
            "1563/1563 [==============================] - 33s 21ms/step - loss: 0.1184 - accuracy: 0.9565\n",
            "Epoch 15/20\n",
            "1563/1563 [==============================] - 34s 21ms/step - loss: 0.1081 - accuracy: 0.9599\n",
            "Epoch 16/20\n",
            "1563/1563 [==============================] - 33s 21ms/step - loss: 0.1004 - accuracy: 0.9617\n",
            "Epoch 17/20\n",
            "1563/1563 [==============================] - 31s 20ms/step - loss: 0.0929 - accuracy: 0.9640\n",
            "Epoch 18/20\n",
            "1563/1563 [==============================] - 31s 20ms/step - loss: 0.0836 - accuracy: 0.9672\n",
            "Epoch 19/20\n",
            "1563/1563 [==============================] - 34s 22ms/step - loss: 0.0780 - accuracy: 0.9695\n",
            "Epoch 20/20\n",
            "1563/1563 [==============================] - 31s 20ms/step - loss: 0.0710 - accuracy: 0.9728\n"
          ]
        }
      ]
    },
    {
      "cell_type": "code",
      "source": [
        "# model.save('/content/drive/MyDrive/AIP Team 5/dataset/new_data_lstm_glove')"
      ],
      "metadata": {
        "id": "0iR-KMDr5RNu"
      },
      "execution_count": null,
      "outputs": []
    },
    {
      "cell_type": "code",
      "source": [
        "prediction = model.predict(X_test)"
      ],
      "metadata": {
        "id": "lXnL0he0cUdE",
        "colab": {
          "base_uri": "https://localhost:8080/"
        },
        "outputId": "bd2e0fe0-4fdd-4818-fb85-d729535bf64f"
      },
      "execution_count": null,
      "outputs": [
        {
          "output_type": "stream",
          "name": "stdout",
          "text": [
            "7937/7937 [==============================] - 87s 11ms/step\n"
          ]
        }
      ]
    },
    {
      "cell_type": "code",
      "source": [
        "sns.set(rc={\"figure.figsize\":(12, 6)}) #width=12, height=6\n",
        "\n",
        "sns.histplot(prediction,bins=100)"
      ],
      "metadata": {
        "colab": {
          "base_uri": "https://localhost:8080/",
          "height": 544
        },
        "id": "wl0vW3A65-FX",
        "outputId": "4d943c64-bdc0-4c13-bf54-1e9d40ff4cd5"
      },
      "execution_count": null,
      "outputs": [
        {
          "output_type": "execute_result",
          "data": {
            "text/plain": [
              "<Axes: ylabel='Count'>"
            ]
          },
          "metadata": {},
          "execution_count": 19
        },
        {
          "output_type": "display_data",
          "data": {
            "text/plain": [
              "<Figure size 1200x600 with 1 Axes>"
            ],
            "image/png": "[encoded data removed]"
          },
          "metadata": {}
        }
      ]
    },
    {
      "cell_type": "code",
      "source": [
        "type(df_test.index),np.array(df_test.index)"
      ],
      "metadata": {
        "colab": {
          "base_uri": "https://localhost:8080/"
        },
        "id": "zfOap50K81M9",
        "outputId": "8bc471c1-2b00-4b99-f62c-d1e263013ec6"
      },
      "execution_count": null,
      "outputs": [
        {
          "output_type": "execute_result",
          "data": {
            "text/plain": [
              "(pandas.core.indexes.numeric.Int64Index,\n",
              " array([     0,      1,      2, ..., 303966, 303977, 303980]))"
            ]
          },
          "metadata": {},
          "execution_count": 20
        }
      ]
    },
    {
      "cell_type": "code",
      "source": [
        "# sns.set(rc={\"figure.figsize\":(16, 8)}) \n",
        "\n",
        "# sns.scatterplot(x=np.array(df_test.index),y=prediction.reshape(-1))"
      ],
      "metadata": {
        "id": "T9B8POxw8YF-"
      },
      "execution_count": null,
      "outputs": []
    },
    {
      "cell_type": "code",
      "source": [
        "y_pred = (prediction > 0.5)"
      ],
      "metadata": {
        "id": "8XS3KfElqREa"
      },
      "execution_count": null,
      "outputs": []
    },
    {
      "cell_type": "code",
      "source": [
        "from sklearn.metrics import accuracy_score,f1_score, confusion_matrix,recall_score,precision_score,ConfusionMatrixDisplay\n",
        "\n",
        "print(\"Accuracy of the model : \", accuracy_score(y_pred, y_test))\n",
        "print('F1-score: ', f1_score(y_pred, y_test))\n",
        "cm = confusion_matrix(y_test,y_pred)\n",
        "disp = ConfusionMatrixDisplay(confusion_matrix=cm,display_labels=['0','1'])\n",
        "sns.set(rc={\"figure.figsize\":(6, 4)})\n",
        "disp.plot()\n",
        "plt.show()"
      ],
      "metadata": {
        "id": "YpzZvvfiqcHo",
        "colab": {
          "base_uri": "https://localhost:8080/",
          "height": 431
        },
        "outputId": "f57cf4fa-faf2-4a24-e3a8-bdcf67d85174"
      },
      "execution_count": null,
      "outputs": [
        {
          "output_type": "stream",
          "name": "stdout",
          "text": [
            "Accuracy of the model :  0.880117016627228\n",
            "F1-score:  0.9344211451315539\n"
          ]
        },
        {
          "output_type": "display_data",
          "data": {
            "text/plain": [
              "<Figure size 600x400 with 2 Axes>"
            ],
            "image/png": "[encoded data removed]"
          },
          "metadata": {}
        }
      ]
    },
    {
      "cell_type": "code",
      "source": [],
      "metadata": {
        "id": "TAM-z3kayJUz"
      },
      "execution_count": null,
      "outputs": []
    },
    {
      "cell_type": "code",
      "source": [
        "from sklearn.metrics import classification_report\n",
        "\n",
        "print(classification_report(y_test, y_pred, target_names=['Positive','Negative']))"
      ],
      "metadata": {
        "colab": {
          "base_uri": "https://localhost:8080/"
        },
        "id": "mAt0tpy7xKSn",
        "outputId": "daee9d86-ea2d-428e-c884-8a1f4500e555"
      },
      "execution_count": null,
      "outputs": [
        {
          "output_type": "stream",
          "name": "stdout",
          "text": [
            "              precision    recall  f1-score   support\n",
            "\n",
            "    Positive       0.19      0.78      0.30      8459\n",
            "    Negative       0.99      0.88      0.93    245522\n",
            "\n",
            "    accuracy                           0.88    253981\n",
            "   macro avg       0.59      0.83      0.62    253981\n",
            "weighted avg       0.96      0.88      0.91    253981\n",
            "\n"
          ]
        }
      ]
    },
    {
      "cell_type": "code",
      "source": [
        "6951/8459, 212444/245522"
      ],
      "metadata": {
        "colab": {
          "base_uri": "https://localhost:8080/"
        },
        "id": "comD-_wkeJf2",
        "outputId": "a26f09e8-5bc4-4c43-a02b-39f47fda8815"
      },
      "execution_count": null,
      "outputs": [
        {
          "output_type": "execute_result",
          "data": {
            "text/plain": [
              "(0.8217283366828231, 0.8652748022580461)"
            ]
          },
          "metadata": {},
          "execution_count": 24
        }
      ]
    },
    {
      "cell_type": "code",
      "source": [
        "df_test['prediction'] = y_pred"
      ],
      "metadata": {
        "id": "KdSMILC-yz5G"
      },
      "execution_count": null,
      "outputs": []
    },
    {
      "cell_type": "code",
      "source": [
        "# df[(df['y_test']==0) & (df['y_pred']==True)]"
      ],
      "metadata": {
        "id": "u-kgNhZK0BEG"
      },
      "execution_count": null,
      "outputs": []
    },
    {
      "cell_type": "code",
      "source": [
        "df_test[['comment','label']][(df_test['prediction'] == True ) & (df_test['label'] == 0)]"
      ],
      "metadata": {
        "id": "t8JigfWDzDMZ",
        "colab": {
          "base_uri": "https://localhost:8080/",
          "height": 423
        },
        "outputId": "50fa57b0-c809-42b3-dd80-d658e1541e4b"
      },
      "execution_count": null,
      "outputs": [
        {
          "output_type": "execute_result",
          "data": {
            "text/plain": [
              "                                                  comment  label\n",
              "275543                     Can   t get them to call back       0\n",
              "275558  I had given one star to Tripfur because there ...      0\n",
              "275574  Pathetic customer service  especially by Neha ...      0\n",
              "275586  This company is THE WORST EVER     Total scam ...      0\n",
              "275616         Did everything on line with no difficulty       0\n",
              "...                                                   ...    ...\n",
              "303939  I uesd the apl on my phone  and instead of  la...      0\n",
              "303945  Agent not experienced enough to advise that if...      0\n",
              "303951  card put on hold they though it was fraud talk...      0\n",
              "303957  JustFly s policy is to charge     to cancel a ...      0\n",
              "303960  I call Customer Service and ask I found the ti...      0\n",
              "\n",
              "[1850 rows x 2 columns]"
            ],
            "text/html": [
              "\n",
              "  <div id=\"df-d6a7399a-7f00-40cf-b416-33d1c0f3ec5b\">\n",
              "    <div class=\"colab-df-container\">\n",
              "      <div>\n",
              "<style scoped>\n",
              "    .dataframe tbody tr th:only-of-type {\n",
              "        vertical-align: middle;\n",
              "    }\n",
              "\n",
              "    .dataframe tbody tr th {\n",
              "        vertical-align: top;\n",
              "    }\n",
              "\n",
              "    .dataframe thead th {\n",
              "        text-align: right;\n",
              "    }\n",
              "</style>\n",
              "<table border=\"1\" class=\"dataframe\">\n",
              "  <thead>\n",
              "    <tr style=\"text-align: right;\">\n",
              "      <th></th>\n",
              "      <th>comment</th>\n",
              "      <th>label</th>\n",
              "    </tr>\n",
              "  </thead>\n",
              "  <tbody>\n",
              "    <tr>\n",
              "      <th>275543</th>\n",
              "      <td>Can   t get them to call back</td>\n",
              "      <td>0</td>\n",
              "    </tr>\n",
              "    <tr>\n",
              "      <th>275558</th>\n",
              "      <td>I had given one star to Tripfur because there ...</td>\n",
              "      <td>0</td>\n",
              "    </tr>\n",
              "    <tr>\n",
              "      <th>275574</th>\n",
              "      <td>Pathetic customer service  especially by Neha ...</td>\n",
              "      <td>0</td>\n",
              "    </tr>\n",
              "    <tr>\n",
              "      <th>275586</th>\n",
              "      <td>This company is THE WORST EVER     Total scam ...</td>\n",
              "      <td>0</td>\n",
              "    </tr>\n",
              "    <tr>\n",
              "      <th>275616</th>\n",
              "      <td>Did everything on line with no difficulty</td>\n",
              "      <td>0</td>\n",
              "    </tr>\n",
              "    <tr>\n",
              "      <th>...</th>\n",
              "      <td>...</td>\n",
              "      <td>...</td>\n",
              "    </tr>\n",
              "    <tr>\n",
              "      <th>303939</th>\n",
              "      <td>I uesd the apl on my phone  and instead of  la...</td>\n",
              "      <td>0</td>\n",
              "    </tr>\n",
              "    <tr>\n",
              "      <th>303945</th>\n",
              "      <td>Agent not experienced enough to advise that if...</td>\n",
              "      <td>0</td>\n",
              "    </tr>\n",
              "    <tr>\n",
              "      <th>303951</th>\n",
              "      <td>card put on hold they though it was fraud talk...</td>\n",
              "      <td>0</td>\n",
              "    </tr>\n",
              "    <tr>\n",
              "      <th>303957</th>\n",
              "      <td>JustFly s policy is to charge     to cancel a ...</td>\n",
              "      <td>0</td>\n",
              "    </tr>\n",
              "    <tr>\n",
              "      <th>303960</th>\n",
              "      <td>I call Customer Service and ask I found the ti...</td>\n",
              "      <td>0</td>\n",
              "    </tr>\n",
              "  </tbody>\n",
              "</table>\n",
              "<p>1850 rows × 2 columns</p>\n",
              "</div>\n",
              "      <button class=\"colab-df-convert\" onclick=\"convertToInteractive('df-d6a7399a-7f00-40cf-b416-33d1c0f3ec5b')\"\n",
              "              title=\"Convert this dataframe to an interactive table.\"\n",
              "              style=\"display:none;\">\n",
              "        \n",
              "  <svg xmlns=\"http://www.w3.org/2000/svg\" height=\"24px\"viewBox=\"0 0 24 24\"\n",
              "       width=\"24px\">\n",
              "    <path d=\"M0 0h24v24H0V0z\" fill=\"none\"/>\n",
              "    <path d=\"M18.56 5.44l.94 2.06.94-2.06 2.06-.94-2.06-.94-.94-2.06-.94 2.06-2.06.94zm-11 1L8.5 8.5l.94-2.06 2.06-.94-2.06-.94L8.5 2.5l-.94 2.06-2.06.94zm10 10l.94 2.06.94-2.06 2.06-.94-2.06-.94-.94-2.06-.94 2.06-2.06.94z\"/><path d=\"M17.41 7.96l-1.37-1.37c-.4-.4-.92-.59-1.43-.59-.52 0-1.04.2-1.43.59L10.3 9.45l-7.72 7.72c-.78.78-.78 2.05 0 2.83L4 21.41c.39.39.9.59 1.41.59.51 0 1.02-.2 1.41-.59l7.78-7.78 2.81-2.81c.8-.78.8-2.07 0-2.86zM5.41 20L4 18.59l7.72-7.72 1.47 1.35L5.41 20z\"/>\n",
              "  </svg>\n",
              "      </button>\n",
              "      \n",
              "  <style>\n",
              "    .colab-df-container {\n",
              "      display:flex;\n",
              "      flex-wrap:wrap;\n",
              "      gap: 12px;\n",
              "    }\n",
              "\n",
              "    .colab-df-convert {\n",
              "      background-color: #E8F0FE;\n",
              "      border: none;\n",
              "      border-radius: 50%;\n",
              "      cursor: pointer;\n",
              "      display: none;\n",
              "      fill: #1967D2;\n",
              "      height: 32px;\n",
              "      padding: 0 0 0 0;\n",
              "      width: 32px;\n",
              "    }\n",
              "\n",
              "    .colab-df-convert:hover {\n",
              "      background-color: #E2EBFA;\n",
              "      box-shadow: 0px 1px 2px rgba(60, 64, 67, 0.3), 0px 1px 3px 1px rgba(60, 64, 67, 0.15);\n",
              "      fill: #174EA6;\n",
              "    }\n",
              "\n",
              "    [theme=dark] .colab-df-convert {\n",
              "      background-color: #3B4455;\n",
              "      fill: #D2E3FC;\n",
              "    }\n",
              "\n",
              "    [theme=dark] .colab-df-convert:hover {\n",
              "      background-color: #434B5C;\n",
              "      box-shadow: 0px 1px 3px 1px rgba(0, 0, 0, 0.15);\n",
              "      filter: drop-shadow(0px 1px 2px rgba(0, 0, 0, 0.3));\n",
              "      fill: #FFFFFF;\n",
              "    }\n",
              "  </style>\n",
              "\n",
              "      <script>\n",
              "        const buttonEl =\n",
              "          document.querySelector('#df-d6a7399a-7f00-40cf-b416-33d1c0f3ec5b button.colab-df-convert');\n",
              "        buttonEl.style.display =\n",
              "          google.colab.kernel.accessAllowed ? 'block' : 'none';\n",
              "\n",
              "        async function convertToInteractive(key) {\n",
              "          const element = document.querySelector('#df-d6a7399a-7f00-40cf-b416-33d1c0f3ec5b');\n",
              "          const dataTable =\n",
              "            await google.colab.kernel.invokeFunction('convertToInteractive',\n",
              "                                                     [key], {});\n",
              "          if (!dataTable) return;\n",
              "\n",
              "          const docLinkHtml = 'Like what you see? Visit the ' +\n",
              "            '<a target=\"_blank\" href=https://colab.research.google.com/notebooks/data_table.ipynb>data table notebook</a>'\n",
              "            + ' to learn more about interactive tables.';\n",
              "          element.innerHTML = '';\n",
              "          dataTable['output_type'] = 'display_data';\n",
              "          await google.colab.output.renderOutput(dataTable, element);\n",
              "          const docLink = document.createElement('div');\n",
              "          docLink.innerHTML = docLinkHtml;\n",
              "          element.appendChild(docLink);\n",
              "        }\n",
              "      </script>\n",
              "    </div>\n",
              "  </div>\n",
              "  "
            ]
          },
          "metadata": {},
          "execution_count": 27
        }
      ]
    },
    {
      "cell_type": "code",
      "source": [
        "df_test['processed_text_len'][(df_test['prediction'] == True ) & (df_test['label'] == 0)].describe()"
      ],
      "metadata": {
        "id": "_LDwr7hb1Pwr",
        "colab": {
          "base_uri": "https://localhost:8080/"
        },
        "outputId": "ee8f8262-ba55-4432-9a4d-2ee75dab18fa"
      },
      "execution_count": null,
      "outputs": [
        {
          "output_type": "execute_result",
          "data": {
            "text/plain": [
              "count    1850.000000\n",
              "mean       34.681081\n",
              "std        40.361146\n",
              "min         1.000000\n",
              "25%        11.000000\n",
              "50%        21.500000\n",
              "75%        41.000000\n",
              "max       289.000000\n",
              "Name: processed_text_len, dtype: float64"
            ]
          },
          "metadata": {},
          "execution_count": 28
        }
      ]
    },
    {
      "cell_type": "code",
      "source": [
        "prediction = model.predict(X_train)\n",
        "y_pred = (prediction > 0.5)"
      ],
      "metadata": {
        "id": "LNFQHRthiLsU",
        "colab": {
          "base_uri": "https://localhost:8080/"
        },
        "outputId": "0125ecdd-ad41-4dfe-b532-6bdf7406d381"
      },
      "execution_count": null,
      "outputs": [
        {
          "output_type": "stream",
          "name": "stdout",
          "text": [
            "1563/1563 [==============================] - 12s 8ms/step\n"
          ]
        }
      ]
    },
    {
      "cell_type": "code",
      "source": [
        "from sklearn.metrics import accuracy_score,f1_score, confusion_matrix,recall_score,precision_score\n",
        "\n",
        "print(\"Accuracy of the model : \", accuracy_score(y_pred, y_train))\n",
        "print('F1-score: ', f1_score(y_pred, y_train))\n",
        "print('Confusion matrix:')\n",
        "confusion_matrix(y_train,y_pred)"
      ],
      "metadata": {
        "id": "GS8tJox4sR0H",
        "colab": {
          "base_uri": "https://localhost:8080/"
        },
        "outputId": "2f8ef0fd-60d7-480b-d5bd-65bc124464e2"
      },
      "execution_count": null,
      "outputs": [
        {
          "output_type": "stream",
          "name": "stdout",
          "text": [
            "Accuracy of the model :  0.9841\n",
            "F1-score:  0.9868196362551188\n",
            "Confusion matrix:\n"
          ]
        },
        {
          "output_type": "execute_result",
          "data": {
            "text/plain": [
              "array([[19444,   556],\n",
              "       [  239, 29761]])"
            ]
          },
          "metadata": {},
          "execution_count": 30
        }
      ]
    }
  ]
}