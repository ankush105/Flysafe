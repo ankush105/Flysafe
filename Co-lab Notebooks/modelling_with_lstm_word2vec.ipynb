{
  "nbformat": 4,
  "nbformat_minor": 0,
  "metadata": {
    "colab": {
      "provenance": []
    },
    "kernelspec": {
      "name": "python3",
      "display_name": "Python 3"
    },
    "language_info": {
      "name": "python"
    },
    "accelerator": "GPU",
    "gpuClass": "standard"
  },
  "cells": [
    {
      "cell_type": "code",
      "source": [
        "# Importing libraries\n",
        "import numpy as np\n",
        "import pandas as pd\n",
        "import seaborn as sns\n",
        "import matplotlib.pyplot as plt\n",
        "import tensorflow as tf"
      ],
      "metadata": {
        "id": "Ddg55LkQX_oD"
      },
      "execution_count": null,
      "outputs": []
    },
    {
      "cell_type": "code",
      "source": [
        "# accessing data from google drive\n",
        "from google.colab import drive\n",
        "drive.mount('/content/drive')"
      ],
      "metadata": {
        "colab": {
          "base_uri": "https://localhost:8080/"
        },
        "id": "o1LVtW2yBUE5",
        "outputId": "7a8e59f0-39fb-4e59-ea59-eeff18eede30"
      },
      "execution_count": null,
      "outputs": [
        {
          "output_type": "stream",
          "name": "stdout",
          "text": [
            "Drive already mounted at /content/drive; to attempt to forcibly remount, call drive.mount(\"/content/drive\", force_remount=True).\n"
          ]
        }
      ]
    },
    {
      "cell_type": "code",
      "execution_count": null,
      "metadata": {
        "colab": {
          "base_uri": "https://localhost:8080/",
          "height": 423
        },
        "id": "XWKDXxCJX9Ow",
        "outputId": "aba04ead-a62c-46f0-9263-3a3fa851fec4"
      },
      "outputs": [
        {
          "output_type": "execute_result",
          "data": {
            "text/plain": [
              "                                             comment  label  \\\n",
              "0  Mohammad harun  he is an awesome guy very info...      1   \n",
              "1  amazing guy gaurav was  so patience and kind  ...      1   \n",
              "2  Gaurav was very knowledgeable and very helpful...      1   \n",
              "3  I called them regarding my flight cancellation...      1   \n",
              "4  VERY GOOD SERVICE BY GAURAV LOHAT SERVED AS SO...      1   \n",
              "\n",
              "                                      processed_text  comment_len  \\\n",
              "0  mohammad harun awesome guy informative helpful...           44   \n",
              "1  amazing guy gaurav patience kind helped start ...           55   \n",
              "2  gaurav knowledgeable helpful knows situation a...           36   \n",
              "3  i called regarding flight cancellation narrate...           34   \n",
              "4  very good service by gaurav lohat served as so...           23   \n",
              "\n",
              "   processed_text_len  \n",
              "0                22.0  \n",
              "1                27.0  \n",
              "2                17.0  \n",
              "3                19.0  \n",
              "4                23.0  "
            ],
            "text/html": [
              "\n",
              "  <div id=\"df-c4590817-8f8f-4ae5-935d-0829332c32ab\">\n",
              "    <div class=\"colab-df-container\">\n",
              "      <div>\n",
              "<style scoped>\n",
              "    .dataframe tbody tr th:only-of-type {\n",
              "        vertical-align: middle;\n",
              "    }\n",
              "\n",
              "    .dataframe tbody tr th {\n",
              "        vertical-align: top;\n",
              "    }\n",
              "\n",
              "    .dataframe thead th {\n",
              "        text-align: right;\n",
              "    }\n",
              "</style>\n",
              "<table border=\"1\" class=\"dataframe\">\n",
              "  <thead>\n",
              "    <tr style=\"text-align: right;\">\n",
              "      <th></th>\n",
              "      <th>comment</th>\n",
              "      <th>label</th>\n",
              "      <th>processed_text</th>\n",
              "      <th>comment_len</th>\n",
              "      <th>processed_text_len</th>\n",
              "    </tr>\n",
              "  </thead>\n",
              "  <tbody>\n",
              "    <tr>\n",
              "      <th>0</th>\n",
              "      <td>Mohammad harun  he is an awesome guy very info...</td>\n",
              "      <td>1</td>\n",
              "      <td>mohammad harun awesome guy informative helpful...</td>\n",
              "      <td>44</td>\n",
              "      <td>22.0</td>\n",
              "    </tr>\n",
              "    <tr>\n",
              "      <th>1</th>\n",
              "      <td>amazing guy gaurav was  so patience and kind  ...</td>\n",
              "      <td>1</td>\n",
              "      <td>amazing guy gaurav patience kind helped start ...</td>\n",
              "      <td>55</td>\n",
              "      <td>27.0</td>\n",
              "    </tr>\n",
              "    <tr>\n",
              "      <th>2</th>\n",
              "      <td>Gaurav was very knowledgeable and very helpful...</td>\n",
              "      <td>1</td>\n",
              "      <td>gaurav knowledgeable helpful knows situation a...</td>\n",
              "      <td>36</td>\n",
              "      <td>17.0</td>\n",
              "    </tr>\n",
              "    <tr>\n",
              "      <th>3</th>\n",
              "      <td>I called them regarding my flight cancellation...</td>\n",
              "      <td>1</td>\n",
              "      <td>i called regarding flight cancellation narrate...</td>\n",
              "      <td>34</td>\n",
              "      <td>19.0</td>\n",
              "    </tr>\n",
              "    <tr>\n",
              "      <th>4</th>\n",
              "      <td>VERY GOOD SERVICE BY GAURAV LOHAT SERVED AS SO...</td>\n",
              "      <td>1</td>\n",
              "      <td>very good service by gaurav lohat served as so...</td>\n",
              "      <td>23</td>\n",
              "      <td>23.0</td>\n",
              "    </tr>\n",
              "  </tbody>\n",
              "</table>\n",
              "</div>\n",
              "      <button class=\"colab-df-convert\" onclick=\"convertToInteractive('df-c4590817-8f8f-4ae5-935d-0829332c32ab')\"\n",
              "              title=\"Convert this dataframe to an interactive table.\"\n",
              "              style=\"display:none;\">\n",
              "        \n",
              "  <svg xmlns=\"http://www.w3.org/2000/svg\" height=\"24px\"viewBox=\"0 0 24 24\"\n",
              "       width=\"24px\">\n",
              "    <path d=\"M0 0h24v24H0V0z\" fill=\"none\"/>\n",
              "    <path d=\"M18.56 5.44l.94 2.06.94-2.06 2.06-.94-2.06-.94-.94-2.06-.94 2.06-2.06.94zm-11 1L8.5 8.5l.94-2.06 2.06-.94-2.06-.94L8.5 2.5l-.94 2.06-2.06.94zm10 10l.94 2.06.94-2.06 2.06-.94-2.06-.94-.94-2.06-.94 2.06-2.06.94z\"/><path d=\"M17.41 7.96l-1.37-1.37c-.4-.4-.92-.59-1.43-.59-.52 0-1.04.2-1.43.59L10.3 9.45l-7.72 7.72c-.78.78-.78 2.05 0 2.83L4 21.41c.39.39.9.59 1.41.59.51 0 1.02-.2 1.41-.59l7.78-7.78 2.81-2.81c.8-.78.8-2.07 0-2.86zM5.41 20L4 18.59l7.72-7.72 1.47 1.35L5.41 20z\"/>\n",
              "  </svg>\n",
              "      </button>\n",
              "      \n",
              "  <style>\n",
              "    .colab-df-container {\n",
              "      display:flex;\n",
              "      flex-wrap:wrap;\n",
              "      gap: 12px;\n",
              "    }\n",
              "\n",
              "    .colab-df-convert {\n",
              "      background-color: #E8F0FE;\n",
              "      border: none;\n",
              "      border-radius: 50%;\n",
              "      cursor: pointer;\n",
              "      display: none;\n",
              "      fill: #1967D2;\n",
              "      height: 32px;\n",
              "      padding: 0 0 0 0;\n",
              "      width: 32px;\n",
              "    }\n",
              "\n",
              "    .colab-df-convert:hover {\n",
              "      background-color: #E2EBFA;\n",
              "      box-shadow: 0px 1px 2px rgba(60, 64, 67, 0.3), 0px 1px 3px 1px rgba(60, 64, 67, 0.15);\n",
              "      fill: #174EA6;\n",
              "    }\n",
              "\n",
              "    [theme=dark] .colab-df-convert {\n",
              "      background-color: #3B4455;\n",
              "      fill: #D2E3FC;\n",
              "    }\n",
              "\n",
              "    [theme=dark] .colab-df-convert:hover {\n",
              "      background-color: #434B5C;\n",
              "      box-shadow: 0px 1px 3px 1px rgba(0, 0, 0, 0.15);\n",
              "      filter: drop-shadow(0px 1px 2px rgba(0, 0, 0, 0.3));\n",
              "      fill: #FFFFFF;\n",
              "    }\n",
              "  </style>\n",
              "\n",
              "      <script>\n",
              "        const buttonEl =\n",
              "          document.querySelector('#df-c4590817-8f8f-4ae5-935d-0829332c32ab button.colab-df-convert');\n",
              "        buttonEl.style.display =\n",
              "          google.colab.kernel.accessAllowed ? 'block' : 'none';\n",
              "\n",
              "        async function convertToInteractive(key) {\n",
              "          const element = document.querySelector('#df-c4590817-8f8f-4ae5-935d-0829332c32ab');\n",
              "          const dataTable =\n",
              "            await google.colab.kernel.invokeFunction('convertToInteractive',\n",
              "                                                     [key], {});\n",
              "          if (!dataTable) return;\n",
              "\n",
              "          const docLinkHtml = 'Like what you see? Visit the ' +\n",
              "            '<a target=\"_blank\" href=https://colab.research.google.com/notebooks/data_table.ipynb>data table notebook</a>'\n",
              "            + ' to learn more about interactive tables.';\n",
              "          element.innerHTML = '';\n",
              "          dataTable['output_type'] = 'display_data';\n",
              "          await google.colab.output.renderOutput(dataTable, element);\n",
              "          const docLink = document.createElement('div');\n",
              "          docLink.innerHTML = docLinkHtml;\n",
              "          element.appendChild(docLink);\n",
              "        }\n",
              "      </script>\n",
              "    </div>\n",
              "  </div>\n",
              "  "
            ]
          },
          "metadata": {},
          "execution_count": 16
        }
      ],
      "source": [
        "# Loading the dataset\n",
        "data = pd.read_csv('/content/drive/MyDrive/AIP Team 5/new_data.csv')\n",
        "\n",
        "# first 5 samples from dataset\n",
        "data.head()"
      ]
    },
    {
      "cell_type": "code",
      "source": [
        "# converting comments into lowercase\n",
        "data['processed_text'] = data['processed_text'].str.lower()"
      ],
      "metadata": {
        "id": "oIAoI-RpD75e"
      },
      "execution_count": null,
      "outputs": []
    },
    {
      "cell_type": "code",
      "source": [
        "# data['label'] = data['label'].apply(lambda x: 1 if x=='Postive' else 0)"
      ],
      "metadata": {
        "id": "49nQc-dEaWDq"
      },
      "execution_count": null,
      "outputs": []
    },
    {
      "cell_type": "code",
      "source": [
        "# spliting 30000 positive random samples\n",
        "df_train_pos = data[data['label']==1].sample(30000, random_state=13)\n",
        "df_test_pos = data[data['label']==1].drop(df_train_pos.index)\n",
        "\n",
        "# spliting 20000 negative random samples\n",
        "df_train_neg = data[data['label']==0].sample(20000, random_state=13)\n",
        "df_test_neg = data[data['label']==0].drop(df_train_neg.index)\n",
        "\n",
        "# joining negative and positives samples for train and test\n",
        "df_train = pd.concat([df_train_pos,df_train_neg])\n",
        "df_test = pd.concat([df_test_pos,df_test_neg])\n"
      ],
      "metadata": {
        "id": "HW2eeZbDvqvK"
      },
      "execution_count": null,
      "outputs": []
    },
    {
      "cell_type": "code",
      "source": [
        "# # 5k ssample dataset for trials\n",
        "# df_5k = df_train.sample(5000,random_state=13)\n",
        "# X_train = df_5k['processed_text']\n",
        "# y_train = df_5k['label']\n",
        "\n",
        "# df_2k = df_train.sample(2000,random_state=13)\n",
        "# X_test = df_2k['processed_text']\n",
        "# y_test = df_2k['label']\n"
      ],
      "metadata": {
        "id": "19SG6BiTvxrs"
      },
      "execution_count": null,
      "outputs": []
    },
    {
      "cell_type": "code",
      "source": [
        "# creating X and y for train and test\n",
        "X_train = df_train['processed_text']\n",
        "y_train = df_train['label']\n",
        "\n",
        "X_test = df_test['processed_text']\n",
        "y_test = df_test['label']\n"
      ],
      "metadata": {
        "id": "JilUyoLNfUWt"
      },
      "execution_count": null,
      "outputs": []
    },
    {
      "cell_type": "code",
      "source": [
        "# number of samples in train and test for each class\n",
        "y_test.value_counts(),y_train.value_counts()"
      ],
      "metadata": {
        "id": "jFS3G6_Gak3o",
        "colab": {
          "base_uri": "https://localhost:8080/"
        },
        "outputId": "a082c38d-c34d-49dc-9b81-339df21a95ae"
      },
      "execution_count": null,
      "outputs": [
        {
          "output_type": "execute_result",
          "data": {
            "text/plain": [
              "(1    245522\n",
              " 0      8459\n",
              " Name: label, dtype: int64,\n",
              " 1    30000\n",
              " 0    20000\n",
              " Name: label, dtype: int64)"
            ]
          },
          "metadata": {},
          "execution_count": 22
        }
      ]
    },
    {
      "cell_type": "code",
      "source": [
        "# WORD2VEC \n",
        "W2V_SIZE = 300\n",
        "W2V_WINDOW = 7\n",
        "W2V_EPOCH = 32\n",
        "W2V_MIN_COUNT = 10"
      ],
      "metadata": {
        "id": "Zuv8bdEhHAym"
      },
      "execution_count": null,
      "outputs": []
    },
    {
      "cell_type": "code",
      "source": [
        "# creating word dictionary\n",
        "documents = [text.split() for text in X_train] \n",
        "len(documents)"
      ],
      "metadata": {
        "colab": {
          "base_uri": "https://localhost:8080/"
        },
        "id": "vF07Is39HW5e",
        "outputId": "bfc1d803-b3d9-44e5-b797-3156fe3a280f"
      },
      "execution_count": null,
      "outputs": [
        {
          "output_type": "execute_result",
          "data": {
            "text/plain": [
              "50000"
            ]
          },
          "metadata": {},
          "execution_count": 24
        }
      ]
    },
    {
      "cell_type": "code",
      "source": [
        "# building word2vec model\n",
        "import gensim\n",
        "\n",
        "w2v_model = gensim.models.word2vec.Word2Vec(vector_size=W2V_SIZE, \n",
        "                                            window=W2V_WINDOW, \n",
        "                                            min_count=W2V_MIN_COUNT)\n",
        "\n",
        "w2v_model.build_vocab(documents)"
      ],
      "metadata": {
        "id": "v6g3ALaMGEvl"
      },
      "execution_count": null,
      "outputs": []
    },
    {
      "cell_type": "code",
      "source": [
        "# training word2vec model\n",
        "w2v_model.train(documents, total_examples=len(documents), epochs=W2V_EPOCH)"
      ],
      "metadata": {
        "colab": {
          "base_uri": "https://localhost:8080/"
        },
        "id": "ls4G056UHBB6",
        "outputId": "1b426498-9d3c-4f4c-9f09-08abe7261ddb"
      },
      "execution_count": null,
      "outputs": [
        {
          "output_type": "execute_result",
          "data": {
            "text/plain": [
              "(42598795, 50454304)"
            ]
          },
          "metadata": {},
          "execution_count": 26
        }
      ]
    },
    {
      "cell_type": "code",
      "source": [
        "# from keras.preprocessing.text import Tokenizer\n",
        "from tensorflow.keras.preprocessing.text import Tokenizer\n",
        "from tensorflow.keras.preprocessing.sequence import pad_sequences\n",
        "\n",
        "tokenizer = Tokenizer()\n",
        "\n",
        "# encoding the words to numbers\n",
        "tokenizer.fit_on_texts(X_train)\n",
        "vocab_size = len(tokenizer.word_index) + 1\n",
        "X_train_encoding = tokenizer.texts_to_sequences(X_train)\n",
        "X_test_encoding = tokenizer.texts_to_sequences(X_test)\n",
        "\n",
        "max_review_length = 40\n",
        "\n",
        "# using padding to make every review of equal size\n",
        "X_train = pad_sequences(X_train_encoding, maxlen=max_review_length,padding='post')\n",
        "X_test = pad_sequences(X_test_encoding, maxlen=max_review_length,padding='post')\n",
        "\n",
        "words_to_index = tokenizer.word_index"
      ],
      "metadata": {
        "id": "f-qSnkd7J22g"
      },
      "execution_count": null,
      "outputs": []
    },
    {
      "cell_type": "code",
      "source": [
        "# words and their embeddings \n",
        "embedding_matrix = np.zeros((vocab_size, W2V_SIZE))\n",
        "for word, i in tokenizer.word_index.items():\n",
        "  if word in w2v_model.wv:\n",
        "    embedding_matrix[i] = w2v_model.wv[word]\n",
        "print(embedding_matrix.shape)"
      ],
      "metadata": {
        "colab": {
          "base_uri": "https://localhost:8080/"
        },
        "id": "6NA0LAdlI3Tk",
        "outputId": "3fa4f4d2-66de-4545-b8e0-cb57eeb8d5ce"
      },
      "execution_count": null,
      "outputs": [
        {
          "output_type": "stream",
          "name": "stdout",
          "text": [
            "(28042, 300)\n"
          ]
        }
      ]
    },
    {
      "cell_type": "code",
      "source": [
        "# embedding layer for the model\n",
        "embedding_layer = tf.keras.layers.Embedding(vocab_size, W2V_SIZE, weights=[embedding_matrix], input_length=max_review_length, trainable=False)"
      ],
      "metadata": {
        "id": "WSCNVf91I9ct"
      },
      "execution_count": null,
      "outputs": []
    },
    {
      "cell_type": "code",
      "source": [
        "import tensorflow as tf\n",
        "\n",
        "# Parameters\n",
        "embedding_dim = 16\n",
        "lstm_dim = 32\n",
        "dense_dim = 24\n",
        "\n",
        "# Build the model\n",
        "model = tf.keras.Sequential([\n",
        "    embedding_layer,\n",
        "    tf.keras.layers.Bidirectional(tf.keras.layers.LSTM(lstm_dim,return_sequences=True,dropout=0.2)),\n",
        "    tf.keras.layers.Bidirectional(tf.keras.layers.LSTM(lstm_dim,return_sequences=True,dropout=0.2)),\n",
        "    tf.keras.layers.LSTM(lstm_dim,dropout=0.2),\n",
        "    tf.keras.layers.Dense(dense_dim, activation='relu'),\n",
        "    tf.keras.layers.Dropout(0.2),\n",
        "    tf.keras.layers.Dense(dense_dim, activation='relu'),\n",
        "    tf.keras.layers.Dense(1, activation='sigmoid')\n",
        "])\n",
        "\n",
        "# Set the training parameters\n",
        "model.compile(loss='binary_crossentropy',optimizer='adam',metrics=['accuracy'])\n",
        "\n",
        "# Print the model summary\n",
        "model.summary()"
      ],
      "metadata": {
        "colab": {
          "base_uri": "https://localhost:8080/"
        },
        "id": "f-hYgaxmRRPo",
        "outputId": "6f06cac6-2290-431c-e782-569a5bdd6cdb"
      },
      "execution_count": null,
      "outputs": [
        {
          "output_type": "stream",
          "name": "stdout",
          "text": [
            "Model: \"sequential\"\n",
            "_________________________________________________________________\n",
            " Layer (type)                Output Shape              Param #   \n",
            "=================================================================\n",
            " embedding (Embedding)       (None, 40, 300)           8412600   \n",
            "                                                                 \n",
            " bidirectional (Bidirectiona  (None, 40, 64)           85248     \n",
            " l)                                                              \n",
            "                                                                 \n",
            " bidirectional_1 (Bidirectio  (None, 40, 64)           24832     \n",
            " nal)                                                            \n",
            "                                                                 \n",
            " lstm_2 (LSTM)               (None, 32)                12416     \n",
            "                                                                 \n",
            " dense (Dense)               (None, 24)                792       \n",
            "                                                                 \n",
            " dropout (Dropout)           (None, 24)                0         \n",
            "                                                                 \n",
            " dense_1 (Dense)             (None, 24)                600       \n",
            "                                                                 \n",
            " dense_2 (Dense)             (None, 1)                 25        \n",
            "                                                                 \n",
            "=================================================================\n",
            "Total params: 8,536,513\n",
            "Trainable params: 123,913\n",
            "Non-trainable params: 8,412,600\n",
            "_________________________________________________________________\n"
          ]
        }
      ]
    },
    {
      "cell_type": "code",
      "source": [
        "NUM_EPOCHS = 20\n",
        "\n",
        "# Train the model\n",
        "history_lstm = model.fit(X_train,y_train, epochs=NUM_EPOCHS)"
      ],
      "metadata": {
        "id": "RL0jJZb2STlC",
        "colab": {
          "base_uri": "https://localhost:8080/"
        },
        "outputId": "3832c844-5586-4c27-a67a-e84833d1f831"
      },
      "execution_count": null,
      "outputs": [
        {
          "output_type": "stream",
          "name": "stdout",
          "text": [
            "Epoch 1/20\n",
            "1563/1563 [==============================] - 41s 17ms/step - loss: 0.3464 - accuracy: 0.8680\n",
            "Epoch 2/20\n",
            "1563/1563 [==============================] - 24s 16ms/step - loss: 0.3108 - accuracy: 0.8819\n",
            "Epoch 3/20\n",
            "1563/1563 [==============================] - 25s 16ms/step - loss: 0.2989 - accuracy: 0.8858\n",
            "Epoch 4/20\n",
            "1563/1563 [==============================] - 25s 16ms/step - loss: 0.2865 - accuracy: 0.8909\n",
            "Epoch 5/20\n",
            "1563/1563 [==============================] - 25s 16ms/step - loss: 0.2765 - accuracy: 0.8942\n",
            "Epoch 6/20\n",
            "1563/1563 [==============================] - 25s 16ms/step - loss: 0.2683 - accuracy: 0.8976\n",
            "Epoch 7/20\n",
            "1563/1563 [==============================] - 25s 16ms/step - loss: 0.2610 - accuracy: 0.8993\n",
            "Epoch 8/20\n",
            "1563/1563 [==============================] - 26s 16ms/step - loss: 0.2545 - accuracy: 0.9011\n",
            "Epoch 9/20\n",
            "1563/1563 [==============================] - 25s 16ms/step - loss: 0.2487 - accuracy: 0.9037\n",
            "Epoch 10/20\n",
            "1563/1563 [==============================] - 26s 16ms/step - loss: 0.2431 - accuracy: 0.9046\n",
            "Epoch 11/20\n",
            "1563/1563 [==============================] - 25s 16ms/step - loss: 0.2398 - accuracy: 0.9064\n",
            "Epoch 12/20\n",
            "1563/1563 [==============================] - 24s 16ms/step - loss: 0.2352 - accuracy: 0.9091\n",
            "Epoch 13/20\n",
            "1563/1563 [==============================] - 25s 16ms/step - loss: 0.2299 - accuracy: 0.9097\n",
            "Epoch 14/20\n",
            "1563/1563 [==============================] - 26s 16ms/step - loss: 0.2258 - accuracy: 0.9114\n",
            "Epoch 15/20\n",
            "1563/1563 [==============================] - 25s 16ms/step - loss: 0.2208 - accuracy: 0.9119\n",
            "Epoch 16/20\n",
            "1563/1563 [==============================] - 25s 16ms/step - loss: 0.2167 - accuracy: 0.9143\n",
            "Epoch 17/20\n",
            "1563/1563 [==============================] - 26s 16ms/step - loss: 0.2139 - accuracy: 0.9153\n",
            "Epoch 18/20\n",
            "1563/1563 [==============================] - 24s 16ms/step - loss: 0.2109 - accuracy: 0.9159\n",
            "Epoch 19/20\n",
            "1563/1563 [==============================] - 25s 16ms/step - loss: 0.2098 - accuracy: 0.9168\n",
            "Epoch 20/20\n",
            "1563/1563 [==============================] - 26s 16ms/step - loss: 0.2057 - accuracy: 0.9172\n"
          ]
        }
      ]
    },
    {
      "cell_type": "code",
      "source": [
        "prediction = model.predict(X_test)"
      ],
      "metadata": {
        "id": "lXnL0he0cUdE",
        "colab": {
          "base_uri": "https://localhost:8080/"
        },
        "outputId": "797bb557-b7f6-4984-cfe3-08f7b0b29ee1"
      },
      "execution_count": null,
      "outputs": [
        {
          "output_type": "stream",
          "name": "stdout",
          "text": [
            "7937/7937 [==============================] - 53s 6ms/step\n"
          ]
        }
      ]
    },
    {
      "cell_type": "code",
      "source": [
        "y_pred = (prediction > 0.5)"
      ],
      "metadata": {
        "id": "8XS3KfElqREa"
      },
      "execution_count": null,
      "outputs": []
    },
    {
      "cell_type": "code",
      "source": [
        "from sklearn.metrics import accuracy_score,f1_score, confusion_matrix,recall_score,precision_score\n",
        "\n",
        "print(\"Accuracy of the model : \", accuracy_score(y_pred, y_test))\n",
        "print('F1-score: ', f1_score(y_pred, y_test))\n",
        "print('Confusion matrix:')\n",
        "confusion_matrix(y_test,y_pred)"
      ],
      "metadata": {
        "id": "YpzZvvfiqcHo",
        "colab": {
          "base_uri": "https://localhost:8080/"
        },
        "outputId": "641b5a73-eec3-4101-a8b7-33b3e4b9515e"
      },
      "execution_count": null,
      "outputs": [
        {
          "output_type": "stream",
          "name": "stdout",
          "text": [
            "Accuracy of the model :  0.9097019068355507\n",
            "F1-score:  0.9513700111534725\n",
            "Confusion matrix:\n"
          ]
        },
        {
          "output_type": "execute_result",
          "data": {
            "text/plain": [
              "array([[  6713,   1746],\n",
              "       [ 21188, 224334]])"
            ]
          },
          "metadata": {},
          "execution_count": 34
        }
      ]
    },
    {
      "cell_type": "code",
      "source": [
        "prediction = model.predict(X_train)\n",
        "y_pred = (prediction > 0.5)"
      ],
      "metadata": {
        "colab": {
          "base_uri": "https://localhost:8080/"
        },
        "id": "LNFQHRthiLsU",
        "outputId": "cb02884b-1df9-4c06-9773-05dcf95f9ff2"
      },
      "execution_count": null,
      "outputs": [
        {
          "output_type": "stream",
          "name": "stdout",
          "text": [
            "1563/1563 [==============================] - 10s 7ms/step\n"
          ]
        }
      ]
    },
    {
      "cell_type": "code",
      "source": [
        "from sklearn.metrics import accuracy_score,f1_score, confusion_matrix,recall_score,precision_score\n",
        "\n",
        "print(\"Accuracy of the model : \", accuracy_score(y_pred, y_train))\n",
        "print('F1-score: ', f1_score(y_pred, y_train))\n",
        "print('Confusion matrix:')\n",
        "confusion_matrix(y_train,y_pred)"
      ],
      "metadata": {
        "colab": {
          "base_uri": "https://localhost:8080/"
        },
        "id": "GS8tJox4sR0H",
        "outputId": "0586b9b5-e421-43e2-d773-b213cff7cdb5"
      },
      "execution_count": null,
      "outputs": [
        {
          "output_type": "stream",
          "name": "stdout",
          "text": [
            "Accuracy of the model :  0.93688\n",
            "F1-score:  0.9484970136101049\n",
            "Confusion matrix:\n"
          ]
        },
        {
          "output_type": "execute_result",
          "data": {
            "text/plain": [
              "array([[17783,  2217],\n",
              "       [  939, 29061]])"
            ]
          },
          "metadata": {},
          "execution_count": 36
        }
      ]
    },
    {
      "cell_type": "code",
      "source": [],
      "metadata": {
        "id": "YaEi4qRGX0aI"
      },
      "execution_count": null,
      "outputs": []
    }
  ]
}